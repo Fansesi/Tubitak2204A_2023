{
  "nbformat": 4,
  "nbformat_minor": 0,
  "metadata": {
    "colab": {
      "provenance": [],
      "collapsed_sections": []
    },
    "kernelspec": {
      "name": "python3",
      "display_name": "Python 3"
    },
    "language_info": {
      "name": "python"
    }
  },
  "cells": [
    {
      "cell_type": "markdown",
      "source": [
        "#Config File\n",
        "In order to store some values and easily experiment with them."
      ],
      "metadata": {
        "id": "mfNt0I1bgvrO"
      }
    },
    {
      "cell_type": "code",
      "source": [
        "#!pip install pretty_midi\n",
        "import tensorflow as tf\n",
        "!pip install MidiTok\n",
        "from MidiTok import OctupleMono"
      ],
      "metadata": {
        "id": "CTFec75aoHqo"
      },
      "execution_count": null,
      "outputs": []
    },
    {
      "cell_type": "code",
      "execution_count": null,
      "metadata": {
        "id": "P0TAW2K_gucp"
      },
      "outputs": [],
      "source": [
        "class Config():\n",
        "  def __init__(self):\n",
        "    #super().__init__(self)\n",
        "\n",
        "    ### For training\n",
        "    self.GLOBAL_BATCH_SIZE = 1\n",
        "\n",
        "    self.num_layers = 6\n",
        "    self.d_model = 128 #was 256\n",
        "    self.dff = 512 #was 1024\n",
        "    self.num_heads = 8\n",
        "\n",
        "    self.MAX_LENGTH = 512*6\n",
        "    self.MAX_REL_DIST = 512*6\n",
        "    self.max_abs_position = 1\n",
        "\n",
        "    self.use_bias = True\n",
        "    self.tie_emb = False\n",
        "    self.layernorm_eps = 1e-06\n",
        "\n",
        "    self.vocab_size = 1572  # Experiment with this value as much as you can.\n",
        "\n",
        "    self.dropout_rate = 0.1\n",
        "\n",
        "    self.checkpoint_path = \"/content/drive/MyDrive/tubitak2204A_2023/trained_models/checkpoints\"\n",
        "\n",
        "    self.epoch_number = 20\n",
        "\n",
        "    ### For preprocessing\n",
        "    self.pitch_range = range(40, 85) #classical guitar is E2 to C6. Values taken from constants.py file.\n",
        "    self.beat_res = {(0, 4): 8, (4, 12): 4}\n",
        "    self.nb_velocities = 32\n",
        "    self.additional_tokens = {'Chord': False, 'Rest': False, 'Tempo': True, 'Program': False, 'TimeSignature': True,\n",
        "                     'rest_range': (2, 8),  # (half, 8 beats)\n",
        "                     'nb_tempos': 32,  # nb of tempo bins\n",
        "                     'tempo_range': (40, 250)}  # (min, max)\n",
        "\n",
        "    self.tokenizer = OctupleMono(self.pitch_range, self.beat_res, self.nb_velocities, self.additional_tokens, mask=True)"
      ]
    }
  ]
}